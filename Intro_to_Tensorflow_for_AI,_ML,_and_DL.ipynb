{
  "nbformat": 4,
  "nbformat_minor": 0,
  "metadata": {
    "colab": {
      "name": "Intro to Tensorflow for AI, ML, and DL.ipynb",
      "provenance": []
    },
    "kernelspec": {
      "name": "python3",
      "display_name": "Python 3"
    },
    "language_info": {
      "name": "python"
    }
  },
  "cells": [
    {
      "cell_type": "code",
      "metadata": {
        "id": "ugXkFNioHdD_"
      },
      "source": [
        "import tensorflow as tf\n",
        "import numpy as np\n",
        "from tensorflow import keras\n",
        "from tensorflow.keras.optimizers import RMSprop\n",
        "from tensorflow.keras.preprocessing.image import ImageDataGenerator"
      ],
      "execution_count": 1,
      "outputs": []
    },
    {
      "cell_type": "code",
      "metadata": {
        "id": "T-24cQ6mH0eM"
      },
      "source": [
        "x = np.array([1.0, 2.0, 3.0, 2.0, 3.0, 1.0, 3.0, 5.0, 4.0], dtype=float)\n",
        "y = np.array([1.0, 1.5, 2.0, 1.5, 2.0, 1.0, 2.0, 3.0, 2.5], dtype=float)"
      ],
      "execution_count": 2,
      "outputs": []
    },
    {
      "cell_type": "code",
      "metadata": {
        "id": "t6UluaXnHndA"
      },
      "source": [
        "model = tf.keras.Sequential([keras.layers.Dense(units=1, input_shape=[1])])\n",
        "model.compile(optimizer='sgd', loss='mean_squared_error')\n",
        "model.fit(x, y, epochs=500)"
      ],
      "execution_count": 6,
      "outputs": []
    },
    {
      "cell_type": "code",
      "metadata": {
        "colab": {
          "base_uri": "https://localhost:8080/"
        },
        "id": "P-FLJ2YTHvfI",
        "outputId": "f8c484a7-4b56-4006-aea3-7064bb32c521"
      },
      "source": [
        "prediction = model.predict([7.0])[0]\n",
        "print(prediction)"
      ],
      "execution_count": 5,
      "outputs": [
        {
          "output_type": "stream",
          "name": "stdout",
          "text": [
            "[4.0164456]\n"
          ]
        }
      ]
    },
    {
      "cell_type": "code",
      "metadata": {
        "id": "lf7AQhTcIFtf"
      },
      "source": [
        "class myCallback(tf.keras.callbacks.Callback):\n",
        "    def on_epoch_end(self, epoch, logs={}):\n",
        "        if logs.get('acc') > .99:\n",
        "            print(\"\\nReached 99% accuracy so cancelling training!\")\n",
        "            self.model.stop_training = True\n",
        "\n",
        "mnist = tf.keras.datasets.mnist\n",
        "\n",
        "(X_train, y_train),(X_test, y_test) = mnist.load_data(path=path)\n",
        "X_train = X_train / 255.0\n",
        "X_test = X_test / 255.0\n",
        "\n",
        "callbacks = myCallback()\n",
        "model = tf.keras.models.Sequential([\n",
        "    tf.keras.layers.Flatten(),\n",
        "    tf.keras.layers.Dense(128, activation = tf.nn.relu),\n",
        "    tf.keras.layers.Dense(10, activation = tf.nn.softmax)\n",
        "])\n",
        "\n",
        "model.compile(optimizer='adam',\n",
        "              loss='sparse_categorical_crossentropy',\n",
        "              metrics=['accuracy'])\n",
        "\n",
        "# model fitting\n",
        "history = model.fit(\n",
        "    X_train, \n",
        "    y_train,\n",
        "    epochs=10,\n",
        "    callbacks=[callbacks]\n",
        ")\n",
        "# model fitting\n",
        "print(history.epoch, history.history['acc'][-1])"
      ],
      "execution_count": null,
      "outputs": []
    },
    {
      "cell_type": "code",
      "metadata": {
        "id": "SiDQ4ln1J-ww"
      },
      "source": [
        "(X_train_images, y_train_labels), (X_test_images, y_test_labels) = mnist.load_data(path=path)\n",
        "\n",
        "X_train_images = X_train_images.reshape(60000,28,28,1)\n",
        "X_train_images = X_train_images/255.0\n",
        "X_test_images = X_test_images.reshape(10000,28,28,1)\n",
        "X_test_images = X_test_images/255.0\n",
        "\n",
        "model = tf.keras.models.Sequential([\n",
        "    tf.keras.layers.Conv2D(64, (5,5), activation='relu', input_shape=(28,28,1)),\n",
        "    tf.keras.layers.MaxPooling2D(3,3),\n",
        "    tf.keras.layers.Flatten(),\n",
        "    tf.keras.layers.Dense(128, activation='relu'),\n",
        "    tf.keras.layers.Dense(10, activation='softmax')\n",
        "])\n",
        "\n",
        "model.compile(optimizer='adam', loss='sparse_categorical_crossentropy', metrics=['accuracy'])\n",
        "# model fitting\n",
        "history = model.fit(\n",
        "    X_train_images,\n",
        "    y_train_labels,\n",
        "    epochs=15,\n",
        "    callbacks=[callbacks]\n",
        ")\n",
        "# model fitting\n",
        "print(history.epoch, history.history['acc'][-1])"
      ],
      "execution_count": null,
      "outputs": []
    },
    {
      "cell_type": "code",
      "metadata": {
        "id": "6Op2D17cK0Qg"
      },
      "source": [
        "DESIRED_ACCURACY = 0.999\n",
        "\n",
        "model = tf.keras.models.Sequential([\n",
        "    tf.keras.layers.Conv2D(16, (3,3), activation='relu', input_shape=(150,150,3)),\n",
        "    tf.keras.layers.MaxPooling2D(2,2),\n",
        "    tf.keras.layers.Conv2D(32, (3,3), activation='relu'),\n",
        "    tf.keras.layers.MaxPooling2D(2,2),\n",
        "    tf.keras.layers.Conv2D(64, (3,3), activation='relu'),\n",
        "    tf.keras.layers.MaxPooling2D(2,2),\n",
        "    tf.keras.layers.Flatten(),\n",
        "    tf.keras.layers.Dense(512, activation='relu'),\n",
        "    tf.keras.layers.Dense(1, activation='sigmoid')\n",
        "])\n",
        "\n",
        "model.compile(loss='binary_crossentropy',\n",
        "              optimizer=RMSprop(lr=.001),\n",
        "              metrics=['accuracy'])\n",
        "\n",
        "train_datagen = ImageDataGenerator(rescale=1/255)\n",
        "validation_datagen = ImageDataGenerator(rescale=1/255)\n",
        "\n",
        "train_generator = train_datagen.flow_from_directory(\n",
        "                    '/tmp/h-or-s',\n",
        "                    target_size=(150,150),\n",
        "                    batch_size=128,\n",
        "                    class_mode='binary')\n",
        "\n",
        "# model fitting\n",
        "history = model.fit_generator(\n",
        "            train_generator,\n",
        "            steps_per_epoch=8,\n",
        "            epochs=15,\n",
        "            callbacks=[callbacks],\n",
        "            verbose=True)\n",
        "\n",
        "# model fitting\n",
        "print(history.history['acc'][-1])"
      ],
      "execution_count": null,
      "outputs": []
    }
  ]
}